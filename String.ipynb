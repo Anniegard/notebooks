{
  "nbformat": 4,
  "nbformat_minor": 0,
  "metadata": {
    "colab": {
      "name": "String.ipynb",
      "provenance": [],
      "collapsed_sections": []
    },
    "kernelspec": {
      "name": "python3",
      "display_name": "Python 3"
    }
  },
  "cells": [
    {
      "cell_type": "markdown",
      "metadata": {
        "id": "jPjLGscWiA9m"
      },
      "source": [
        "## **STRING**\n",
        "Модуль String модержит в себе ряд полезных констант и функций для операция, связанных с строками."
      ]
    },
    {
      "cell_type": "code",
      "metadata": {
        "id": "0u2bUIB8jdE_"
      },
      "source": [
        "import string"
      ],
      "execution_count": null,
      "outputs": []
    },
    {
      "cell_type": "markdown",
      "metadata": {
        "id": "Exj_8uezjvUV"
      },
      "source": [
        "# **Константы в модуле String**\n",
        "\n",
        "**string.ascii_letters** - выводит все символы ASCII верхнего и нижнего регистра.\n",
        "\n",
        "**string.ascii_lowercase** - Все сиволы ASCII нижнего регистра.\n",
        "\n",
        "**string.ascii_uppercase** - Все символы ASCII верхнего регистра.\n",
        "\n",
        "**string.digits** - Все десятичные знаковые символы.\n",
        "\n",
        "**string.hexdigits** - Все символы шестнадцатеричной цифры.\n",
        "\n",
        "**string.octaldigits** - Все восьмеричные цифры.\n",
        "\n",
        "**string.punctuation** - Все символы, которые считаются пунктуацией.\n",
        "\n",
        "**string.whitespace** - Все символы ASCII, считанные пробелами.\n",
        "\n",
        "**string.printable** - Все сиволы, которые считаются пригодными для печати."
      ]
    },
    {
      "cell_type": "code",
      "metadata": {
        "id": "I4tHEDY2m-Qf",
        "colab": {
          "base_uri": "https://localhost:8080/",
          "height": 35
        },
        "outputId": "cb33de0d-52a8-418b-f126-584c61f2ccf0"
      },
      "source": [
        "string.ascii_letters"
      ],
      "execution_count": null,
      "outputs": [
        {
          "output_type": "execute_result",
          "data": {
            "application/vnd.google.colaboratory.intrinsic+json": {
              "type": "string"
            },
            "text/plain": [
              "'abcdefghijklmnopqrstuvwxyzABCDEFGHIJKLMNOPQRSTUVWXYZ'"
            ]
          },
          "metadata": {
            "tags": []
          },
          "execution_count": 5
        }
      ]
    },
    {
      "cell_type": "code",
      "metadata": {
        "id": "Fm3qKSDOnCdG",
        "colab": {
          "base_uri": "https://localhost:8080/",
          "height": 35
        },
        "outputId": "d0451123-4e1c-4410-d592-eb9caf8a5ab3"
      },
      "source": [
        "string.ascii_lowercase"
      ],
      "execution_count": null,
      "outputs": [
        {
          "output_type": "execute_result",
          "data": {
            "application/vnd.google.colaboratory.intrinsic+json": {
              "type": "string"
            },
            "text/plain": [
              "'abcdefghijklmnopqrstuvwxyz'"
            ]
          },
          "metadata": {
            "tags": []
          },
          "execution_count": 6
        }
      ]
    },
    {
      "cell_type": "code",
      "metadata": {
        "id": "KKvI8_IYnIKg",
        "colab": {
          "base_uri": "https://localhost:8080/",
          "height": 35
        },
        "outputId": "5804b7f5-e37f-4282-a0b3-be7670e9f800"
      },
      "source": [
        "string.hexdigits"
      ],
      "execution_count": null,
      "outputs": [
        {
          "output_type": "execute_result",
          "data": {
            "application/vnd.google.colaboratory.intrinsic+json": {
              "type": "string"
            },
            "text/plain": [
              "'0123456789abcdefABCDEF'"
            ]
          },
          "metadata": {
            "tags": []
          },
          "execution_count": 7
        }
      ]
    },
    {
      "cell_type": "code",
      "metadata": {
        "id": "5yoo2U6mnPKI",
        "colab": {
          "base_uri": "https://localhost:8080/",
          "height": 35
        },
        "outputId": "4ff91580-436a-4267-8487-5b3e932f24a6"
      },
      "source": [
        "string.punctuation"
      ],
      "execution_count": null,
      "outputs": [
        {
          "output_type": "execute_result",
          "data": {
            "application/vnd.google.colaboratory.intrinsic+json": {
              "type": "string"
            },
            "text/plain": [
              "'!\"#$%&\\'()*+,-./:;<=>?@[\\\\]^_`{|}~'"
            ]
          },
          "metadata": {
            "tags": []
          },
          "execution_count": 24
        }
      ]
    },
    {
      "cell_type": "code",
      "metadata": {
        "id": "_hVYh2cKnOL4",
        "colab": {
          "base_uri": "https://localhost:8080/",
          "height": 35
        },
        "outputId": "7eeedf41-dfef-4dcc-a837-741528b63ec3"
      },
      "source": [
        "string.whitespace"
      ],
      "execution_count": null,
      "outputs": [
        {
          "output_type": "execute_result",
          "data": {
            "application/vnd.google.colaboratory.intrinsic+json": {
              "type": "string"
            },
            "text/plain": [
              "' \\t\\n\\r\\x0b\\x0c'"
            ]
          },
          "metadata": {
            "tags": []
          },
          "execution_count": 8
        }
      ]
    },
    {
      "cell_type": "code",
      "metadata": {
        "id": "83z3oDBBnRR0",
        "colab": {
          "base_uri": "https://localhost:8080/",
          "height": 35
        },
        "outputId": "f7f972d2-3d9e-43af-818f-33389a1925c2"
      },
      "source": [
        "string.printable"
      ],
      "execution_count": null,
      "outputs": [
        {
          "output_type": "execute_result",
          "data": {
            "application/vnd.google.colaboratory.intrinsic+json": {
              "type": "string"
            },
            "text/plain": [
              "'0123456789abcdefghijklmnopqrstuvwxyzABCDEFGHIJKLMNOPQRSTUVWXYZ!\"#$%&\\'()*+,-./:;<=>?@[\\\\]^_`{|}~ \\t\\n\\r\\x0b\\x0c'"
            ]
          },
          "metadata": {
            "tags": []
          },
          "execution_count": 9
        }
      ]
    },
    {
      "cell_type": "markdown",
      "metadata": {
        "id": "X1796pQ6uoKK"
      },
      "source": [
        "# **str.format**\n",
        "\n",
        "Иногда возникают ситуации, когда нужно сделать строку, подставив в неё некоторые данные, полученные в процессе выполнения программы (пользовательский ввод, данные из файлов и т. д.). Подстановку данных можно сделать с помощью форматирования строк."
      ]
    },
    {
      "cell_type": "code",
      "metadata": {
        "id": "hUzuCsrnvR1m",
        "colab": {
          "base_uri": "https://localhost:8080/",
          "height": 35
        },
        "outputId": "d3750bf3-d100-4e39-f11a-91ab6138c5c8"
      },
      "source": [
        "'Hello, {}!'.format('Vasya')"
      ],
      "execution_count": null,
      "outputs": [
        {
          "output_type": "execute_result",
          "data": {
            "application/vnd.google.colaboratory.intrinsic+json": {
              "type": "string"
            },
            "text/plain": [
              "'Hello, Vasya!'"
            ]
          },
          "metadata": {
            "tags": []
          },
          "execution_count": 10
        }
      ]
    },
    {
      "cell_type": "code",
      "metadata": {
        "id": "Vu6rjfgsvc1y",
        "colab": {
          "base_uri": "https://localhost:8080/",
          "height": 35
        },
        "outputId": "cb2d2c86-d5af-4b50-af52-9979183c0e04"
      },
      "source": [
        "first = 'Rauven'\n",
        "last = 'Learner'\n",
        "\"Good morning, {} {}\".format(first, last)"
      ],
      "execution_count": null,
      "outputs": [
        {
          "output_type": "execute_result",
          "data": {
            "application/vnd.google.colaboratory.intrinsic+json": {
              "type": "string"
            },
            "text/plain": [
              "'Good morning, Rauven Learner'"
            ]
          },
          "metadata": {
            "tags": []
          },
          "execution_count": 11
        }
      ]
    },
    {
      "cell_type": "markdown",
      "metadata": {
        "id": "N5ipzPCqv1lI"
      },
      "source": [
        "Для вывода одного или двух аргументов нет ничего сложного. Но преимущество str.format над % является в что мы можем указать, в какой последовательности будут выводиться аргументы."
      ]
    },
    {
      "cell_type": "code",
      "metadata": {
        "id": "5Ul6fiWHzcAI",
        "colab": {
          "base_uri": "https://localhost:8080/",
          "height": 35
        },
        "outputId": "dc8764b8-655e-4007-c17c-002fec69be29"
      },
      "source": [
        "\"Good morning, {1} {0}\".format(first, last)"
      ],
      "execution_count": null,
      "outputs": [
        {
          "output_type": "execute_result",
          "data": {
            "application/vnd.google.colaboratory.intrinsic+json": {
              "type": "string"
            },
            "text/plain": [
              "'Good morning, Learner Rauven'"
            ]
          },
          "metadata": {
            "tags": []
          },
          "execution_count": 12
        }
      ]
    },
    {
      "cell_type": "code",
      "metadata": {
        "id": "w1vT0vWgzoRk",
        "colab": {
          "base_uri": "https://localhost:8080/",
          "height": 35
        },
        "outputId": "22351650-2750-451d-ca5f-ecd3a4ac9ef4"
      },
      "source": [
        "\"Good morning, {0} {1}\".format(first, last)"
      ],
      "execution_count": null,
      "outputs": [
        {
          "output_type": "execute_result",
          "data": {
            "application/vnd.google.colaboratory.intrinsic+json": {
              "type": "string"
            },
            "text/plain": [
              "'Good morning, Rauven Learner'"
            ]
          },
          "metadata": {
            "tags": []
          },
          "execution_count": 13
        }
      ]
    },
    {
      "cell_type": "markdown",
      "metadata": {
        "id": "ODtslvo-zyXF"
      },
      "source": [
        "Так же можно исользовать последовательность из списка, возпользовавшись оператором *."
      ]
    },
    {
      "cell_type": "code",
      "metadata": {
        "id": "XFIOnhi_z_rG",
        "colab": {
          "base_uri": "https://localhost:8080/",
          "height": 35
        },
        "outputId": "8cec5d04-8b83-48f8-a252-6851a96a8483"
      },
      "source": [
        "names = ('Reuven', 'Lerner')\n",
        "\"Good morning, {} {}\".format(*names)"
      ],
      "execution_count": null,
      "outputs": [
        {
          "output_type": "execute_result",
          "data": {
            "application/vnd.google.colaboratory.intrinsic+json": {
              "type": "string"
            },
            "text/plain": [
              "'Good morning, Reuven Lerner'"
            ]
          },
          "metadata": {
            "tags": []
          },
          "execution_count": 14
        }
      ]
    },
    {
      "cell_type": "code",
      "metadata": {
        "id": "U841w5d40FBu",
        "colab": {
          "base_uri": "https://localhost:8080/",
          "height": 35
        },
        "outputId": "9652b110-2acf-47b9-870a-ef676acc8e77"
      },
      "source": [
        "\"Good morning, {first} {last}\".format(first='Reuven', last='Lerner')"
      ],
      "execution_count": null,
      "outputs": [
        {
          "output_type": "execute_result",
          "data": {
            "application/vnd.google.colaboratory.intrinsic+json": {
              "type": "string"
            },
            "text/plain": [
              "'Good morning, Reuven Lerner'"
            ]
          },
          "metadata": {
            "tags": []
          },
          "execution_count": 15
        }
      ]
    },
    {
      "cell_type": "markdown",
      "metadata": {
        "id": "5B2ZKB5Q0NQi"
      },
      "source": [
        "Именованные параметры можно, также, развернуть из словаря, используя оператор **:"
      ]
    },
    {
      "cell_type": "code",
      "metadata": {
        "id": "bB1gJcpr0QNz",
        "colab": {
          "base_uri": "https://localhost:8080/",
          "height": 35
        },
        "outputId": "b64b6920-6c8c-4d19-9bc2-c9e207a755d8"
      },
      "source": [
        "person = {'first':'Reuven', 'last':'Lerner'}\n",
        "\"Good morning, {first} {last}\".format(**person)"
      ],
      "execution_count": null,
      "outputs": [
        {
          "output_type": "execute_result",
          "data": {
            "application/vnd.google.colaboratory.intrinsic+json": {
              "type": "string"
            },
            "text/plain": [
              "'Good morning, Reuven Lerner'"
            ]
          },
          "metadata": {
            "tags": []
          },
          "execution_count": 16
        }
      ]
    },
    {
      "cell_type": "markdown",
      "metadata": {
        "id": "WCNPk_uE0Xi8"
      },
      "source": [
        "В str.format так же есть форматирование.\n",
        "Например, если мы хотим вывести строку заданной длины, то после имени переменной добавляем двоеточие (:) и затем количество символов."
      ]
    },
    {
      "cell_type": "code",
      "metadata": {
        "id": "TaM8Y2-h0qrj",
        "colab": {
          "base_uri": "https://localhost:8080/",
          "height": 35
        },
        "outputId": "8e3d48fd-bce8-4443-e346-97f70757173c"
      },
      "source": [
        "\"Your name is {name:3}\".format(name=\"Reuven\")"
      ],
      "execution_count": null,
      "outputs": [
        {
          "output_type": "execute_result",
          "data": {
            "application/vnd.google.colaboratory.intrinsic+json": {
              "type": "string"
            },
            "text/plain": [
              "'Your name is Reuven'"
            ]
          },
          "metadata": {
            "tags": []
          },
          "execution_count": 7
        }
      ]
    },
    {
      "cell_type": "markdown",
      "metadata": {
        "id": "4yUEY49s0suS"
      },
      "source": [
        "Если нужно задать выравнивание по правой стороне блока — используется знак > между: и числом:"
      ]
    },
    {
      "cell_type": "code",
      "metadata": {
        "id": "skJPt_1W00Eo",
        "colab": {
          "base_uri": "https://localhost:8080/",
          "height": 35
        },
        "outputId": "caf134a6-9efa-43d3-c443-20c27d3de4e9"
      },
      "source": [
        "\"Your name is {name:*^10}\".format(name=\"Reuven\")"
      ],
      "execution_count": null,
      "outputs": [
        {
          "output_type": "execute_result",
          "data": {
            "application/vnd.google.colaboratory.intrinsic+json": {
              "type": "string"
            },
            "text/plain": [
              "'Your name is **Reuven**'"
            ]
          },
          "metadata": {
            "tags": []
          },
          "execution_count": 18
        }
      ]
    },
    {
      "cell_type": "markdown",
      "metadata": {
        "id": "6UMYnpPI03BM"
      },
      "source": [
        "Для простого вывода чисел используем синтаксис похожий на строки. Но для чисел применяется большее количество модификаторов, чем для строк. Например, чтобы вывести число в двоичном виде добавляем модификатор «b», если в шестнадцатеричном — модификатор «x»:"
      ]
    },
    {
      "cell_type": "code",
      "metadata": {
        "id": "ja0ZbrAH1fRU",
        "colab": {
          "base_uri": "https://localhost:8080/",
          "height": 35
        },
        "outputId": "2325a8e2-d2da-41c4-d119-11208b890e9a"
      },
      "source": [
        "\"The price is {number:b}.\".format(number=5)"
      ],
      "execution_count": null,
      "outputs": [
        {
          "output_type": "execute_result",
          "data": {
            "application/vnd.google.colaboratory.intrinsic+json": {
              "type": "string"
            },
            "text/plain": [
              "'The price is 101.'"
            ]
          },
          "metadata": {
            "tags": []
          },
          "execution_count": 19
        }
      ]
    },
    {
      "cell_type": "code",
      "metadata": {
        "id": "RVoVHIuq1Gen",
        "colab": {
          "base_uri": "https://localhost:8080/",
          "height": 35
        },
        "outputId": "c4433b71-20e8-4bcf-efd2-d2adf5d8f42d"
      },
      "source": [
        "\"The price is {number:x}.\".format(number=123)"
      ],
      "execution_count": null,
      "outputs": [
        {
          "output_type": "execute_result",
          "data": {
            "application/vnd.google.colaboratory.intrinsic+json": {
              "type": "string"
            },
            "text/plain": [
              "'The price is 7b.'"
            ]
          },
          "metadata": {
            "tags": []
          },
          "execution_count": 21
        }
      ]
    },
    {
      "cell_type": "markdown",
      "metadata": {
        "id": "c8iHYh1659bl"
      },
      "source": [
        "## **Задание к выполнению:**\n",
        "\n",
        "С помощью str.format ограничить количество чисел после запятой до заданного значения.\n",
        "\n"
      ]
    },
    {
      "cell_type": "code",
      "metadata": {
        "id": "wWQUeKMUt_Sh",
        "colab": {
          "base_uri": "https://localhost:8080/",
          "height": 35
        },
        "outputId": "e6017f88-b828-48b9-f748-6e22bf4937a7"
      },
      "source": [
        "\"Answer: {a:5}\".format(a='3.12345')"
      ],
      "execution_count": null,
      "outputs": [
        {
          "output_type": "execute_result",
          "data": {
            "application/vnd.google.colaboratory.intrinsic+json": {
              "type": "string"
            },
            "text/plain": [
              "'Answer: 3.12345'"
            ]
          },
          "metadata": {
            "tags": []
          },
          "execution_count": 11
        }
      ]
    }
  ]
}